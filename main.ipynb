{
 "cells": [
  {
   "cell_type": "markdown",
   "metadata": {},
   "source": [
    "# Dependencies and Initializations"
   ]
  },
  {
   "cell_type": "code",
   "execution_count": 2,
   "metadata": {},
   "outputs": [
    {
     "name": "stdout",
     "output_type": "stream",
     "text": [
      "Requirement already satisfied: asttokens in c:\\users\\loune\\documents\\programming\\hdi\\hdi\\lib\\site-packages (from -r requirements.txt (line 1)) (2.4.1)\n",
      "Requirement already satisfied: colorama in c:\\users\\loune\\documents\\programming\\hdi\\hdi\\lib\\site-packages (from -r requirements.txt (line 2)) (0.4.6)\n",
      "Requirement already satisfied: comm in c:\\users\\loune\\documents\\programming\\hdi\\hdi\\lib\\site-packages (from -r requirements.txt (line 3)) (0.2.2)\n",
      "Requirement already satisfied: debugpy in c:\\users\\loune\\documents\\programming\\hdi\\hdi\\lib\\site-packages (from -r requirements.txt (line 4)) (1.8.2)\n",
      "Requirement already satisfied: decorator in c:\\users\\loune\\documents\\programming\\hdi\\hdi\\lib\\site-packages (from -r requirements.txt (line 5)) (5.1.1)\n",
      "Requirement already satisfied: executing in c:\\users\\loune\\documents\\programming\\hdi\\hdi\\lib\\site-packages (from -r requirements.txt (line 6)) (2.0.1)\n",
      "Collecting findspark (from -r requirements.txt (line 7))\n",
      "  Using cached findspark-2.0.1-py2.py3-none-any.whl.metadata (352 bytes)\n",
      "Requirement already satisfied: ipykernel in c:\\users\\loune\\documents\\programming\\hdi\\hdi\\lib\\site-packages (from -r requirements.txt (line 8)) (6.29.5)\n",
      "Requirement already satisfied: ipython in c:\\users\\loune\\documents\\programming\\hdi\\hdi\\lib\\site-packages (from -r requirements.txt (line 9)) (8.26.0)\n",
      "Requirement already satisfied: jedi in c:\\users\\loune\\documents\\programming\\hdi\\hdi\\lib\\site-packages (from -r requirements.txt (line 10)) (0.19.1)\n",
      "Requirement already satisfied: jupyter_client in c:\\users\\loune\\documents\\programming\\hdi\\hdi\\lib\\site-packages (from -r requirements.txt (line 11)) (8.6.2)\n",
      "Requirement already satisfied: jupyter_core in c:\\users\\loune\\documents\\programming\\hdi\\hdi\\lib\\site-packages (from -r requirements.txt (line 12)) (5.7.2)\n",
      "Requirement already satisfied: matplotlib-inline in c:\\users\\loune\\documents\\programming\\hdi\\hdi\\lib\\site-packages (from -r requirements.txt (line 13)) (0.1.7)\n",
      "Requirement already satisfied: nest-asyncio in c:\\users\\loune\\documents\\programming\\hdi\\hdi\\lib\\site-packages (from -r requirements.txt (line 14)) (1.6.0)\n",
      "Collecting numpy (from -r requirements.txt (line 15))\n",
      "  Using cached numpy-2.0.0-cp312-cp312-win_amd64.whl.metadata (60 kB)\n",
      "Requirement already satisfied: packaging in c:\\users\\loune\\documents\\programming\\hdi\\hdi\\lib\\site-packages (from -r requirements.txt (line 16)) (24.1)\n",
      "Collecting pandas (from -r requirements.txt (line 17))\n",
      "  Using cached pandas-2.2.2-cp312-cp312-win_amd64.whl.metadata (19 kB)\n",
      "Requirement already satisfied: parso in c:\\users\\loune\\documents\\programming\\hdi\\hdi\\lib\\site-packages (from -r requirements.txt (line 18)) (0.8.4)\n",
      "Requirement already satisfied: platformdirs in c:\\users\\loune\\documents\\programming\\hdi\\hdi\\lib\\site-packages (from -r requirements.txt (line 19)) (4.2.2)\n",
      "Requirement already satisfied: prompt_toolkit in c:\\users\\loune\\documents\\programming\\hdi\\hdi\\lib\\site-packages (from -r requirements.txt (line 20)) (3.0.47)\n",
      "Requirement already satisfied: psutil in c:\\users\\loune\\documents\\programming\\hdi\\hdi\\lib\\site-packages (from -r requirements.txt (line 21)) (6.0.0)\n",
      "Requirement already satisfied: pure-eval in c:\\users\\loune\\documents\\programming\\hdi\\hdi\\lib\\site-packages (from -r requirements.txt (line 22)) (0.2.2)\n",
      "Collecting py4j (from -r requirements.txt (line 23))\n",
      "  Using cached py4j-0.10.9.7-py2.py3-none-any.whl.metadata (1.5 kB)\n",
      "Requirement already satisfied: Pygments in c:\\users\\loune\\documents\\programming\\hdi\\hdi\\lib\\site-packages (from -r requirements.txt (line 24)) (2.18.0)\n",
      "Collecting pyspark (from -r requirements.txt (line 25))\n",
      "  Using cached pyspark-3.5.1-py2.py3-none-any.whl\n",
      "Requirement already satisfied: python-dateutil in c:\\users\\loune\\documents\\programming\\hdi\\hdi\\lib\\site-packages (from -r requirements.txt (line 26)) (2.9.0.post0)\n",
      "Collecting pytz (from -r requirements.txt (line 27))\n",
      "  Using cached pytz-2024.1-py2.py3-none-any.whl.metadata (22 kB)\n",
      "Requirement already satisfied: pywin32 in c:\\users\\loune\\documents\\programming\\hdi\\hdi\\lib\\site-packages (from -r requirements.txt (line 28)) (306)\n",
      "Requirement already satisfied: pyzmq in c:\\users\\loune\\documents\\programming\\hdi\\hdi\\lib\\site-packages (from -r requirements.txt (line 29)) (26.0.3)\n",
      "Collecting setuptools (from -r requirements.txt (line 30))\n",
      "  Using cached setuptools-70.3.0-py3-none-any.whl.metadata (5.8 kB)\n",
      "Requirement already satisfied: six in c:\\users\\loune\\documents\\programming\\hdi\\hdi\\lib\\site-packages (from -r requirements.txt (line 31)) (1.16.0)\n",
      "Requirement already satisfied: stack-data in c:\\users\\loune\\documents\\programming\\hdi\\hdi\\lib\\site-packages (from -r requirements.txt (line 32)) (0.6.3)\n",
      "Collecting tabulate (from -r requirements.txt (line 33))\n",
      "  Using cached tabulate-0.9.0-py3-none-any.whl.metadata (34 kB)\n",
      "Requirement already satisfied: tornado in c:\\users\\loune\\documents\\programming\\hdi\\hdi\\lib\\site-packages (from -r requirements.txt (line 34)) (6.4.1)\n",
      "Requirement already satisfied: traitlets in c:\\users\\loune\\documents\\programming\\hdi\\hdi\\lib\\site-packages (from -r requirements.txt (line 35)) (5.14.3)\n",
      "Collecting tzdata (from -r requirements.txt (line 36))\n",
      "  Using cached tzdata-2024.1-py2.py3-none-any.whl.metadata (1.4 kB)\n",
      "Requirement already satisfied: wcwidth in c:\\users\\loune\\documents\\programming\\hdi\\hdi\\lib\\site-packages (from -r requirements.txt (line 37)) (0.2.13)\n",
      "Using cached findspark-2.0.1-py2.py3-none-any.whl (4.4 kB)\n",
      "Using cached numpy-2.0.0-cp312-cp312-win_amd64.whl (16.2 MB)\n",
      "Using cached pandas-2.2.2-cp312-cp312-win_amd64.whl (11.5 MB)\n",
      "Using cached py4j-0.10.9.7-py2.py3-none-any.whl (200 kB)\n",
      "Using cached pytz-2024.1-py2.py3-none-any.whl (505 kB)\n",
      "Using cached setuptools-70.3.0-py3-none-any.whl (931 kB)\n",
      "Using cached tabulate-0.9.0-py3-none-any.whl (35 kB)\n",
      "Using cached tzdata-2024.1-py2.py3-none-any.whl (345 kB)\n",
      "Installing collected packages: pytz, py4j, findspark, tzdata, tabulate, setuptools, pyspark, numpy, pandas\n",
      "Successfully installed findspark-2.0.1 numpy-2.0.0 pandas-2.2.2 py4j-0.10.9.7 pyspark-3.5.1 pytz-2024.1 setuptools-70.3.0 tabulate-0.9.0 tzdata-2024.1\n"
     ]
    }
   ],
   "source": [
    "! pip install -r requirements.txt"
   ]
  },
  {
   "cell_type": "code",
   "execution_count": 3,
   "metadata": {},
   "outputs": [],
   "source": [
    "import pandas as pd\n",
    "import sqlite3 as sql\n",
    "import os\n",
    "import hashlib\n",
    "import setuptools  # for distutils\n",
    "import traceback"
   ]
  },
  {
   "cell_type": "code",
   "execution_count": 4,
   "metadata": {},
   "outputs": [],
   "source": [
    "from typing import Dict, Tuple, List, Callable, Any, Optional"
   ]
  },
  {
   "cell_type": "code",
   "execution_count": 5,
   "metadata": {},
   "outputs": [
    {
     "data": {
      "text/plain": [
       "'C:\\\\Users\\\\Loune\\\\spark-3.5.1-bin-hadoop3'"
      ]
     },
     "execution_count": 5,
     "metadata": {},
     "output_type": "execute_result"
    }
   ],
   "source": [
    "import findspark\n",
    "\n",
    "findspark.init()\n",
    "findspark.find()"
   ]
  },
  {
   "cell_type": "code",
   "execution_count": 6,
   "metadata": {},
   "outputs": [],
   "source": [
    "from pyspark import SparkContext, SparkConf\n",
    "from pyspark.sql import SparkSession, Row\n",
    "from pyspark.sql.functions import col, md5, monotonically_increasing_id\n",
    "from pyspark.sql.types import StringType"
   ]
  }
 ],
 "metadata": {
  "kernelspec": {
   "display_name": "hdi",
   "language": "python",
   "name": "python3"
  },
  "language_info": {
   "codemirror_mode": {
    "name": "ipython",
    "version": 3
   },
   "file_extension": ".py",
   "mimetype": "text/x-python",
   "name": "python",
   "nbconvert_exporter": "python",
   "pygments_lexer": "ipython3",
   "version": "3.12.2"
  }
 },
 "nbformat": 4,
 "nbformat_minor": 2
}
